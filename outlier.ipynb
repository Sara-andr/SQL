{
  "nbformat": 4,
  "nbformat_minor": 0,
  "metadata": {
    "colab": {
      "provenance": [],
      "authorship_tag": "ABX9TyP8PWJ0d53YixcWnMCVUDCV",
      "include_colab_link": true
    },
    "kernelspec": {
      "name": "python3",
      "display_name": "Python 3"
    },
    "language_info": {
      "name": "python"
    }
  },
  "cells": [
    {
      "cell_type": "markdown",
      "metadata": {
        "id": "view-in-github",
        "colab_type": "text"
      },
      "source": [
        "<a href=\"https://colab.research.google.com/github/Sara-andr/SQL/blob/main/outlier.ipynb\" target=\"_parent\"><img src=\"https://colab.research.google.com/assets/colab-badge.svg\" alt=\"Open In Colab\"/></a>"
      ]
    },
    {
      "cell_type": "code",
      "execution_count": 1,
      "metadata": {
        "colab": {
          "base_uri": "https://localhost:8080/"
        },
        "id": "2QYMGVcN6Wsy",
        "outputId": "f0b74744-2d80-4a3d-d662-9763497d257b"
      },
      "outputs": [
        {
          "output_type": "stream",
          "name": "stdout",
          "text": [
            "Dados originais: [15, 22, 22, 25, 30, 35, 40, 40, 40, 50, 55, 60, 200, 220]\n",
            "Dados sem outliers: [15, 22, 22, 25, 30, 35, 40, 40, 40, 50, 55, 60]\n"
          ]
        }
      ],
      "source": [
        "import numpy as np\n",
        "\n",
        "dados = [15, 22, 22, 25, 30, 35, 40, 40, 40, 50, 55, 60, 200, 220]\n",
        "\n",
        "def remover_outliers_iqr(dados):\n",
        "    \"\"\"Remove outliers usando o método IQR.\"\"\"\n",
        "    q1 = np.percentile(dados, 25)\n",
        "    q3 = np.percentile(dados, 75)\n",
        "    iqr = q3 - q1\n",
        "    limite_inferior = q1 - 1.5 * iqr\n",
        "    limite_superior = q3 + 1.5 * iqr\n",
        "\n",
        "    dados_filtrados = [x for x in dados if limite_inferior <= x <= limite_superior]\n",
        "    return dados_filtrados\n",
        "\n",
        "dados_filtrados = remover_outliers_iqr(dados)\n",
        "print(\"Dados originais:\", dados)\n",
        "print(\"Dados sem outliers:\", dados_filtrados)\n"
      ]
    },
    {
      "cell_type": "code",
      "source": [
        "import numpy as np\n",
        "\n",
        "# Lista de valores\n",
        "dados = [15, 22, 22, 25, 30, 35, 40, 40, 40, 50, 55, 60, 200, 220]\n",
        "\n",
        "# Calcular Q1, Q3 e IQR\n",
        "Q1 = np.percentile(dados, 25)\n",
        "Q3 = np.percentile(dados, 75)\n",
        "IQR = Q3 - Q1\n",
        "\n",
        "# Calcular os limites inferior e superior\n",
        "limite_inferior = Q1 - 1.5 * IQR\n",
        "limite_superior = Q3 + 1.5 * IQR\n",
        "\n",
        "# Filtrar os dados, mantendo apenas os valores dentro do intervalo\n",
        "dados_filtrados = [x for x in dados if limite_inferior <= x <= limite_superior]\n",
        "\n",
        "print(\"Dados originais:\", dados)\n",
        "print(\"Dados após remover outliers:\", dados_filtrados)"
      ],
      "metadata": {
        "colab": {
          "base_uri": "https://localhost:8080/"
        },
        "id": "Z64t0DsL79fb",
        "outputId": "711883f1-2c81-4358-89ed-1295d17e99f4"
      },
      "execution_count": 2,
      "outputs": [
        {
          "output_type": "stream",
          "name": "stdout",
          "text": [
            "Dados originais: [15, 22, 22, 25, 30, 35, 40, 40, 40, 50, 55, 60, 200, 220]\n",
            "Dados após remover outliers: [15, 22, 22, 25, 30, 35, 40, 40, 40, 50, 55, 60]\n"
          ]
        }
      ]
    }
  ]
}